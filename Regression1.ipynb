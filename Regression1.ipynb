{
  "nbformat": 4,
  "nbformat_minor": 0,
  "metadata": {
    "kernelspec": {
      "display_name": "Python 3",
      "language": "python",
      "name": "python3"
    },
    "language_info": {
      "codemirror_mode": {
        "name": "ipython",
        "version": 3
      },
      "file_extension": ".py",
      "mimetype": "text/x-python",
      "name": "python",
      "nbconvert_exporter": "python",
      "pygments_lexer": "ipython3",
      "version": "3.7.4"
    },
    "colab": {
      "name": "Regression1.ipynb",
      "provenance": [],
      "collapsed_sections": []
    }
  },
  "cells": [
    {
      "cell_type": "markdown",
      "metadata": {
        "id": "8lZbEZ4XXz1f",
        "colab_type": "text"
      },
      "source": [
        "##  Linear Regression"
      ]
    },
    {
      "cell_type": "markdown",
      "metadata": {
        "id": "MZ3wlTrcXz1k",
        "colab_type": "text"
      },
      "source": [
        "Linear Regression is a machine learning algorithm based on supervised learning. It performs a regression task. Regression models a target prediction value based on independent variables. It is mostly used for finding out the relationship between variables and forecasting. Different regression models differ based on – the kind of relationship between dependent and independent variables, they are considering and the number of independent variables being used. "
      ]
    },
    {
      "cell_type": "markdown",
      "metadata": {
        "id": "I6Gmr4l5Xz1p",
        "colab_type": "text"
      },
      "source": [
        "Linear regression attempts to model the relationship between two variables by fitting a linear equation to observed data. One variable is considered to be an explanatory variable, and the other is considered to be a dependent variable. For example, a modeler might want to relate the weights of individuals to their heights using a linear regression model.\n",
        "Before attempting to fit a linear model to observed data, a modeler should first determine whether or not there is a relationship between the variables of interest. This does not necessarily imply that one variable causes the other (for example, higher SAT scores do not cause higher college grades), but that there is some significant association between the two variables. A scatterplot can be a helpful tool in determining the strength of the relationship between two variables. If there appears to be no association between the proposed explanatory and dependent variables (i.e., the scatterplot does not indicate any increasing or decreasing trends), then fitting a linear regression model to the data probably will not provide a useful model. A valuable numerical measure of association between two variables is the correlation coefficient, which is a value between -1 and 1 indicating the strength of the association of the observed data for the two variables.\n",
        "\n",
        "A linear regression line has an equation of the form Y = a + bX, where X is the explanatory variable and Y is the dependent variable. The slope of the line is b, and a is the intercept (the value of y when x = 0)."
      ]
    },
    {
      "cell_type": "markdown",
      "metadata": {
        "id": "5DoLtrloXz1u",
        "colab_type": "text"
      },
      "source": [
        "### Create a random variable sequence(\"x\") of size 100"
      ]
    },
    {
      "cell_type": "code",
      "metadata": {
        "id": "F451NhSLXz1x",
        "colab_type": "code",
        "colab": {
          "base_uri": "https://localhost:8080/",
          "height": 306
        },
        "outputId": "88927aaf-8177-4a8c-df2e-3fe9b263dee0"
      },
      "source": [
        "import random\n",
        "np.random.seed(1)\n",
        "#numpy.random.seed(seed=None)\n",
        "#Seed the generator.\n",
        "#This method is called when RandomState is initialized. It can be called again to re-seed the generator. For details, see RandomState.\n",
        "x=np.random.randn(100)\n",
        "#here we tell the generator that the size is 100\n",
        "#RandomState exposes a number of methods for generating random numbers drawn from a variety of probability distributions.\n",
        "print (x)"
      ],
      "execution_count": 13,
      "outputs": [
        {
          "output_type": "stream",
          "text": [
            "[ 1.62434536 -0.61175641 -0.52817175 -1.07296862  0.86540763 -2.3015387\n",
            "  1.74481176 -0.7612069   0.3190391  -0.24937038  1.46210794 -2.06014071\n",
            " -0.3224172  -0.38405435  1.13376944 -1.09989127 -0.17242821 -0.87785842\n",
            "  0.04221375  0.58281521 -1.10061918  1.14472371  0.90159072  0.50249434\n",
            "  0.90085595 -0.68372786 -0.12289023 -0.93576943 -0.26788808  0.53035547\n",
            " -0.69166075 -0.39675353 -0.6871727  -0.84520564 -0.67124613 -0.0126646\n",
            " -1.11731035  0.2344157   1.65980218  0.74204416 -0.19183555 -0.88762896\n",
            " -0.74715829  1.6924546   0.05080775 -0.63699565  0.19091548  2.10025514\n",
            "  0.12015895  0.61720311  0.30017032 -0.35224985 -1.1425182  -0.34934272\n",
            " -0.20889423  0.58662319  0.83898341  0.93110208  0.28558733  0.88514116\n",
            " -0.75439794  1.25286816  0.51292982 -0.29809284  0.48851815 -0.07557171\n",
            "  1.13162939  1.51981682  2.18557541 -1.39649634 -1.44411381 -0.50446586\n",
            "  0.16003707  0.87616892  0.31563495 -2.02220122 -0.30620401  0.82797464\n",
            "  0.23009474  0.76201118 -0.22232814 -0.20075807  0.18656139  0.41005165\n",
            "  0.19829972  0.11900865 -0.67066229  0.37756379  0.12182127  1.12948391\n",
            "  1.19891788  0.18515642 -0.37528495 -0.63873041  0.42349435  0.07734007\n",
            " -0.34385368  0.04359686 -0.62000084  0.69803203]\n"
          ],
          "name": "stdout"
        }
      ]
    },
    {
      "cell_type": "markdown",
      "metadata": {
        "id": "lIPrVnRvXz2E",
        "colab_type": "text"
      },
      "source": [
        "### Create a random variable sequence(\"y\") of size 100,\n",
        "where y = random_sequence + 2*x + 1"
      ]
    },
    {
      "cell_type": "code",
      "metadata": {
        "id": "tyNY2JYvXz2I",
        "colab_type": "code",
        "colab": {
          "base_uri": "https://localhost:8080/",
          "height": 306
        },
        "outputId": "642a67f1-d368-448b-9526-764fbeb7191d"
      },
      "source": [
        "np.random.seed(1)\n",
        "#here we initialise the seed generator like we did in the x variable above with 1 \n",
        "#and also form the y vaiable according to the condition given\n",
        "y = np.random.randn(1) + 2*x +1\n",
        "print (y)"
      ],
      "execution_count": 14,
      "outputs": [
        {
          "output_type": "stream",
          "text": [
            "[ 5.87303609  1.40083254  1.56800186  0.47840812  4.35516062 -1.97873203\n",
            "  6.11396889  1.10193156  3.26242356  2.12560461  5.54856124 -1.49593606\n",
            "  1.97951096  1.85623665  4.89188425  0.42456283  2.27948895  0.86862853\n",
            "  2.70877286  3.78997579  0.42310701  4.91379278  4.4275268   3.62933404\n",
            "  4.42605726  1.25688965  2.37856491  0.7528065   2.0885692   3.6850563\n",
            "  1.24102386  1.83083831  1.24999996  0.93393408  1.2818531   2.59901617\n",
            "  0.38972467  3.09317676  5.94394972  4.10843368  2.24067426  0.84908744\n",
            "  1.13002878  6.00925457  2.72596087  1.35035407  3.00617633  6.82485564\n",
            "  2.86466327  3.85875158  3.224686    1.91984567  0.33930897  1.92565992\n",
            "  2.2065569   3.79759175  4.30231219  4.48654953  3.19552001  4.39462769\n",
            "  1.11554948  5.13008167  3.650205    2.02815969  3.60138166  2.47320194\n",
            "  4.88760414  5.663979    6.99549618 -0.16864731 -0.26388225  1.61541364\n",
            "  2.9444195   4.37668321  3.25561526 -1.42005707  2.01193734  4.28029465\n",
            "  3.08453483  4.14836772  2.17968908  2.22282923  2.99746815  3.44444866\n",
            "  3.0209448   2.86236266  1.28302079  3.37947294  2.86798791  4.88331318\n",
            "  5.02218112  2.9946582   1.87377546  1.34688455  3.47133407  2.7790255\n",
            "  1.93663801  2.71153908  1.38434368  4.02040943]\n"
          ],
          "name": "stdout"
        }
      ]
    },
    {
      "cell_type": "markdown",
      "metadata": {
        "id": "iVD4KkymXz2Y",
        "colab_type": "text"
      },
      "source": [
        "### Plot the scatter plot between x & y."
      ]
    },
    {
      "cell_type": "code",
      "metadata": {
        "id": "IEwW77ZAXz2b",
        "colab_type": "code",
        "colab": {
          "base_uri": "https://localhost:8080/",
          "height": 276
        },
        "outputId": "f215e025-7c41-48ee-bded-9af13fb36f22"
      },
      "source": [
        "import matplotlib.pyplot as plt\n",
        "#matplotlib.pyplot is a collection of command style functions that make matplotlib work like MATLAB. \n",
        "#Each pyplot function makes some change to a figure: eg, create a figure, create a plotting area in a figure,\n",
        "# plot some lines in a plotting area, decorate the plot with labels, etc....\n",
        "#matplotlib.pyplot is stateful, in that it keeps track of the current figure and plotting area, and the plotting functions are directed to the current axes\n",
        "plt.scatter(x,y)\n",
        "#Scatter plots are used to plot data points on horizontal and vertical axis in the attempt to show how much one variable is affected by another. \n",
        "plt.xlabel(\"X\")\n",
        "plt.ylabel(\"Y\")\n",
        "plt.show()"
      ],
      "execution_count": 15,
      "outputs": [
        {
          "output_type": "display_data",
          "data": {
            "image/png": "[encoded data removed]",
            "text/plain": [
              "<Figure size 432x288 with 1 Axes>"
            ]
          },
          "metadata": {
            "tags": []
          }
        }
      ]
    },
    {
      "cell_type": "markdown",
      "metadata": {
        "id": "WsHkT9ALXz2q",
        "colab_type": "text"
      },
      "source": [
        "### Find pearson correlation between x & y"
      ]
    },
    {
      "cell_type": "code",
      "metadata": {
        "id": "3y7lQrINXz2t",
        "colab_type": "code",
        "colab": {
          "base_uri": "https://localhost:8080/",
          "height": 34
        },
        "outputId": "8d7bfd01-d5d7-489a-a745-3343920a3aa7"
      },
      "source": [
        "import scipy.stats\n",
        "print(\"Pearson Correlation Coefficient:\",scipy.stats.pearsonr(x,y)[0])\n",
        "#it is one of the many corelational fucntions used in scipy.stats module \n",
        "#pearsonr(x, y)\n",
        "#Pearson correlation coefficient and p-value for testing non-correlation.\n",
        "#This module contains a large number of probability distributions as well as a growing library of statistical functions.\n",
        "\n"
      ],
      "execution_count": 16,
      "outputs": [
        {
          "output_type": "stream",
          "text": [
            "Pearson Correlation Coefficient: 0.9999999999999999\n"
          ],
          "name": "stdout"
        }
      ]
    }
  ]
}