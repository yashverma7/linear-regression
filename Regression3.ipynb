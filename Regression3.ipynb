{
  "nbformat": 4,
  "nbformat_minor": 0,
  "metadata": {
    "colab": {
      "name": "Regression3.ipynb",
      "provenance": []
    },
    "kernelspec": {
      "name": "python3",
      "display_name": "Python 3"
    }
  },
  "cells": [
    {
      "cell_type": "code",
      "metadata": {
        "id": "3WQnuEhvyWZx",
        "colab_type": "code",
        "colab": {}
      },
      "source": [
        ""
      ],
      "execution_count": null,
      "outputs": []
    },
    {
      "cell_type": "markdown",
      "metadata": {
        "id": "7NMCC-SxYnQ9",
        "colab_type": "text"
      },
      "source": [
        "## Simple Linear Regression\n",
        "Simple linear regression is a regression model that estimates the relationship between one independent variable and one dependent variable using a straight line. Both variables should be quantitative.\n",
        "\n",
        "For example, the relationship between temperature and the expansion of mercury in a thermometer can be modeled using a straight line: as temperature increases, the mercury expands. This linear relationship is so certain that we can use mercury thermometers to measure temperature."
      ]
    },
    {
      "cell_type": "code",
      "metadata": {
        "id": "8UlaQmxgYnRC",
        "colab_type": "code",
        "colab": {},
        "outputId": "4cdefb8d-ed84-4511-efdf-583376e5b554"
      },
      "source": [
        "from PIL import Image\n",
        "from IPython.core.display import Image, display\n",
        "display(Image(\"Regression.png\", width=300, height=300))\n",
        "\n",
        "#Underlying equation of simple linear regression."
      ],
      "execution_count": null,
      "outputs": [
        {
          "output_type": "display_data",
          "data": {
            "image/png": "[encoded data removed]",
            "text/plain": [
              "<IPython.core.display.Image object>"
            ]
          },
          "metadata": {
            "tags": [],
            "image/png": {
              "height": 300,
              "width": 300
            }
          }
        }
      ]
    },
    {
      "cell_type": "markdown",
      "metadata": {
        "id": "xMhXEgmeYnRW",
        "colab_type": "text"
      },
      "source": [
        "### Create a variable \"random_variable\" of size 100 with variance = 5.\n",
        "\n",
        "\n"
      ]
    },
    {
      "cell_type": "code",
      "metadata": {
        "id": "op30iy2CYnRY",
        "colab_type": "code",
        "colab": {
          "base_uri": "https://localhost:8080/",
          "height": 323
        },
        "outputId": "96ef4600-f198-4b0a-f4d1-53eb12fb755a"
      },
      "source": [
        "import numpy as np\n",
        "np.random.seed(0)\n",
        "random_variable = np.random.normal(0,5**0.5,100)\n",
        "#here the first argument is mean and\n",
        "#the second argument is standard deviation\n",
        "print(random_variable) # if variance is 5 then standard deviation is 5**0.5.\n",
        "print(\"Variance of the sample:\",np.var(random_variable))"
      ],
      "execution_count": 6,
      "outputs": [
        {
          "output_type": "stream",
          "text": [
            "[ 3.94454096  0.89477872  2.18852466  5.01078952  4.17598662 -2.18525977\n",
            "  2.12446229 -0.33844501 -0.23080437  0.91812616  0.32209122  3.25185442\n",
            "  1.70173209  0.27207361  0.99250836  0.74611848  3.34086237 -0.45874782\n",
            "  0.70004066 -1.90981613 -5.70865877  1.46153561  1.9329381  -1.65953144\n",
            "  5.07532563 -3.25206051  0.10231916 -0.41855581  3.42739852  3.28558609\n",
            "  0.34647298  0.8455971  -1.98514928 -4.42919555 -0.77795522  0.34960692\n",
            "  2.75101359  2.68860308 -0.86608909 -0.6759695  -2.34463571 -3.17525664\n",
            " -3.81533613  4.36206639 -1.13961692 -0.97956392 -2.80133559  1.73852129\n",
            " -3.6087853  -0.47570173 -2.0023241   0.86514029 -1.14219501 -2.63997382\n",
            " -0.06301738  0.95777918  0.14873703  0.67634772 -1.41838732 -0.81111391\n",
            " -1.50366727 -0.80398531 -1.81825036 -3.86008525  0.39673692 -0.89840949\n",
            " -3.64523432  1.03481258 -2.02878082  0.11615344  1.63029606  0.28841456\n",
            "  2.54777738 -2.76115447  0.89966326 -1.53128192 -1.94716162 -1.2943472\n",
            " -0.69665264  0.12558952 -2.60535425  2.01430926  1.04125287 -3.43514531\n",
            "  3.32783307  4.23933708  2.63583125 -0.40232416 -2.39427565  2.35782574\n",
            " -0.90153106  2.73347028  0.46571701  2.18383128  0.79685949  1.57994564\n",
            "  0.02347876  3.99332782  0.28378407  0.89887554]\n",
            "Variance of the sample: 5.079133096074658\n"
          ],
          "name": "stdout"
        }
      ]
    },
    {
      "cell_type": "markdown",
      "metadata": {
        "id": "sbKDX8ZdYnRh",
        "colab_type": "text"
      },
      "source": [
        "### Create a random variable sequence(\"y\") of size 100,\n",
        "where y = random_sequence + 2*x + 1"
      ]
    },
    {
      "cell_type": "code",
      "metadata": {
        "id": "uZr1m2WAYnRj",
        "colab_type": "code",
        "colab": {
          "base_uri": "https://localhost:8080/",
          "height": 357
        },
        "outputId": "f931151b-4408-4959-a731-7e1e09f8c202"
      },
      "source": [
        "np.random.seed(0)\n",
        "#again we use the random seed generator \n",
        "\n",
        "y = np.random.randn(100) + 2*random_variable + 1\n",
        "print(y)"
      ],
      "execution_count": 7,
      "outputs": [
        {
          "output_type": "stream",
          "text": [
            "[ 10.65313427   3.18971465   6.35578731  13.26247225  11.21953123\n",
            "  -4.34779742   6.19901299   0.17175278   0.43517241   3.24685083\n",
            "   1.788226     8.95798235   5.1645019    1.66582223   3.42887996\n",
            "   2.82591128   9.17580382  -0.12265391   2.71314903  -3.673728\n",
            " -12.97030736   4.57668982   5.7303124   -3.06122789  13.42040589\n",
            "  -6.9584867    1.25039683  -0.02429548   9.38757625   9.04053096\n",
            "   1.84789338   3.06935672  -3.85808431  -9.83918757  -0.90382258\n",
            "   1.85556282   7.73231787   7.579586    -1.119505    -0.65424175\n",
            "  -4.73782438  -6.77053121  -8.33694246  11.67490818  -1.78888603\n",
            "  -1.39720214  -5.85546653   5.25453293  -7.83146844  -0.16414374\n",
            "  -3.90011477   3.11718307  -1.79519516  -5.46057982   0.84578302\n",
            "   3.34389023   1.36399128   2.65516735  -2.47109674  -0.98496898\n",
            "  -2.67979499  -0.96752378  -3.44964701  -8.4464531    1.97089997\n",
            "  -1.19859991  -7.92066699   3.53240742  -3.96486      1.28425227\n",
            "   4.98968268   1.70581202   7.23495545  -5.75713477   3.20166816\n",
            "  -2.74737392  -3.76512039  -2.16754406  -0.70485781   1.30734439\n",
            "  -5.37585834   5.92944501   3.54816818  -7.40653431   9.14391834\n",
            "  11.37456333   7.45044207   0.01542684  -4.85930392   6.77010321\n",
            "  -1.20623907   7.68938562   2.139709     6.34430159   2.95008538\n",
            "   4.86646444   1.05745754  10.77252614   1.69448023   3.19974045]\n"
          ],
          "name": "stdout"
        }
      ]
    },
    {
      "cell_type": "markdown",
      "metadata": {
        "id": "zl0Gehe6YnRo",
        "colab_type": "text"
      },
      "source": [
        "### Calculate a & b for the equation y = a+bx"
      ]
    },
    {
      "cell_type": "code",
      "metadata": {
        "id": "eyPJhTrnYnRp",
        "colab_type": "code",
        "colab": {
          "base_uri": "https://localhost:8080/",
          "height": 51
        },
        "outputId": "30d1997d-9cb8-4bb6-82bd-3779a7ea94bd"
      },
      "source": [
        "from scipy.stats import linregress\n",
        "#scipy.stats.linregress(x, y=None)[source]\n",
        "#used to Calculate a linear least-squares regression for two sets of measurements.\n",
        "#Parameters like here we have taken are two variables\n",
        "#x, y\n",
        "#array_like\n",
        "#Two sets of measurements. Both arrays should have the same length. If only x is given (and y=None), then it must be a \n",
        "#two-dimensional array where one dimension has length 2. The two sets of measurements are then found by splitting the \n",
        "#array along the length-2 dimension. In the case where y=None and x is a 2x2 array, linregress(x) is equivalent to linregress(x[0], x[1]).\n",
        "lg = linregress(random_variable,y)\n",
        "a = lg[0]\n",
        "b = lg[1]\n",
        "print(\"Slope:\",a)\n",
        "print(\"Intercept:\",b)"
      ],
      "execution_count": 8,
      "outputs": [
        {
          "output_type": "stream",
          "text": [
            "Slope: 2.447213595499957\n",
            "Intercept: 1.0\n"
          ],
          "name": "stdout"
        }
      ]
    },
    {
      "cell_type": "markdown",
      "metadata": {
        "id": "MA4Zosg8YnRu",
        "colab_type": "text"
      },
      "source": [
        "### Calculate yhat,\n",
        "yhat = a+bx"
      ]
    },
    {
      "cell_type": "code",
      "metadata": {
        "id": "YhHbUa4VYnRv",
        "colab_type": "code",
        "colab": {
          "base_uri": "https://localhost:8080/",
          "height": 306
        },
        "outputId": "7e559362-875c-4687-f798-7da90d56b9e3"
      },
      "source": [
        "yhat = a + b*random_variable\n",
        "print(yhat)"
      ],
      "execution_count": 9,
      "outputs": [
        {
          "output_type": "stream",
          "text": [
            "[ 6.39175456  3.34199232  4.63573826  7.45800312  6.62320021  0.26195382\n",
            "  4.57167588  2.10876859  2.21640923  3.36533976  2.76930481  5.69906801\n",
            "  4.14894568  2.7192872   3.43972196  3.19333207  5.78807597  1.98846577\n",
            "  3.14725426  0.53739746 -3.26144518  3.90874921  4.3801517   0.78768216\n",
            "  7.52253923 -0.80484692  2.54953275  2.02865778  5.87461211  5.73279969\n",
            "  2.79368657  3.2928107   0.46206431 -1.98198196  1.66925838  2.79682052\n",
            "  5.19822719  5.13581667  1.5811245   1.7712441   0.10257789 -0.72804304\n",
            " -1.36812254  6.80927999  1.30759667  1.46764968 -0.35412199  4.18573488\n",
            " -1.1615717   1.97151187  0.44488949  3.31235388  1.30501858 -0.19276022\n",
            "  2.38419622  3.40499277  2.59595063  3.12356132  1.02882627  1.63609969\n",
            "  0.94354632  1.64322828  0.62896323 -1.41287165  2.84395051  1.54880411\n",
            " -1.19802073  3.48202618  0.41843278  2.56336703  4.07750965  2.73562815\n",
            "  4.99499098 -0.31394088  3.34687686  0.91593168  0.50005198  1.1528664\n",
            "  1.75056096  2.57280312 -0.15814065  4.46152286  3.48846647 -0.98793172\n",
            "  5.77504667  6.68655067  5.08304485  2.04488943  0.05293795  4.80503934\n",
            "  1.54568254  5.18068387  2.9129306   4.63104487  3.24407308  4.02715923\n",
            "  2.47069236  6.44054142  2.73099766  3.34608914]\n"
          ],
          "name": "stdout"
        }
      ]
    },
    {
      "cell_type": "markdown",
      "metadata": {
        "id": "FHUz3B94YnR0",
        "colab_type": "text"
      },
      "source": [
        "### Scatterplot x and yhat"
      ]
    },
    {
      "cell_type": "code",
      "metadata": {
        "id": "vUbm0VeQYnR1",
        "colab_type": "code",
        "colab": {
          "base_uri": "https://localhost:8080/",
          "height": 282
        },
        "outputId": "dcfedb23-bbc4-4bd3-c532-8dfdfe36ea1c"
      },
      "source": [
        "import matplotlib.pyplot as plt\n",
        "plt.scatter(random_variable,yhat)\n",
        "plt.xlabel(\"x\")\n",
        "plt.ylabel(\"yhat\")\n",
        "plt.show()"
      ],
      "execution_count": 10,
      "outputs": [
        {
          "output_type": "display_data",
          "data": {
            "image/png": "[encoded data removed]",
            "text/plain": [
              "<Figure size 432x288 with 1 Axes>"
            ]
          },
          "metadata": {
            "tags": [],
            "needs_background": "light"
          }
        }
      ]
    },
    {
      "cell_type": "markdown",
      "metadata": {
        "id": "aXIOn0WKYnR7",
        "colab_type": "text"
      },
      "source": [
        "### Determine how good the model is by computing the r-squared\n",
        "https://www.khanacademy.org/math/ap-statistics/bivariate-data-ap/assessing-fit-least-squares-regression/a/r-squared-intuition\n",
        "\n",
        "### Calculate the goodness of fit for the above model(R-squared)."
      ]
    },
    {
      "cell_type": "markdown",
      "metadata": {
        "id": "2EfXiHHBYnR8",
        "colab_type": "text"
      },
      "source": [
        "\n",
        "\n",
        "```\n",
        "# This is formatted as code\n",
        "\n",
        "```\n",
        "\n"
      ]
    },
    {
      "cell_type": "code",
      "metadata": {
        "id": "t7q_eYjEz0f5",
        "colab_type": "code",
        "colab": {
          "base_uri": "https://localhost:8080/",
          "height": 34
        },
        "outputId": "f39e265a-1fa2-453b-9a9c-0dcfdc4fd05e"
      },
      "source": [
        "# to calculate R-squared\n",
        "r_sq = lg[2]\n",
        "print(\"R-squared :\",r_sq)"
      ],
      "execution_count": 11,
      "outputs": [
        {
          "output_type": "stream",
          "text": [
            "R-squared : 0.9999999999999996\n"
          ],
          "name": "stdout"
        }
      ]
    }
  ]
}